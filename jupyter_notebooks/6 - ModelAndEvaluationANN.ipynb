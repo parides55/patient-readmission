{
  "cells": [
    {
      "cell_type": "markdown",
      "metadata": {
        "id": "0aStgWSO0E0E"
      },
      "source": [
        "# **Model and Evaluation Notebook using Artificial Neuron Networks**"
      ]
    },
    {
      "cell_type": "markdown",
      "metadata": {
        "id": "1eLEkw5O0ECa"
      },
      "source": [
        "## Objectives\n",
        "\n",
        "* Write here your notebook objective, for example, \"Fetch data from Kaggle and save as raw data\", or \"engineer features for modelling\"\n",
        "\n",
        "## Inputs\n",
        "\n",
        "* Write here which data or information you need to run the notebook \n",
        "\n",
        "## Outputs\n",
        "\n",
        "* Write here which files, code or artefacts you generate by the end of the notebook \n",
        "\n",
        "## Additional Comments\n",
        "\n",
        "* In case you have any additional comments that don't fit in the previous bullets, please state them here. \n"
      ]
    },
    {
      "cell_type": "markdown",
      "metadata": {
        "id": "9uWZXH9LwoQg"
      },
      "source": [
        "---"
      ]
    },
    {
      "cell_type": "markdown",
      "metadata": {
        "id": "cqP-UeN-z3i2"
      },
      "source": [
        "# Change working directory"
      ]
    },
    {
      "cell_type": "markdown",
      "metadata": {},
      "source": [
        "* We are assuming you will store the notebooks in a subfolder, therefore when running the notebook in the editor, you will need to change the working directory"
      ]
    },
    {
      "cell_type": "markdown",
      "metadata": {
        "id": "aOGIGS-uz3i2"
      },
      "source": [
        "We need to change the working directory from its current folder to its parent folder\n",
        "* We access the current directory with os.getcwd()"
      ]
    },
    {
      "cell_type": "code",
      "execution_count": 1,
      "metadata": {
        "id": "wZfF_j-Bz3i4",
        "outputId": "66943449-1436-4c3d-85c7-b85f9f78349b"
      },
      "outputs": [
        {
          "data": {
            "text/plain": [
              "'c:\\\\Users\\\\Andrias\\\\Desktop\\\\patient-readmission\\\\jupyter_notebooks'"
            ]
          },
          "execution_count": 1,
          "metadata": {},
          "output_type": "execute_result"
        }
      ],
      "source": [
        "import os\n",
        "current_dir = os.getcwd()\n",
        "current_dir"
      ]
    },
    {
      "cell_type": "markdown",
      "metadata": {
        "id": "9MWW8E7lz3i7"
      },
      "source": [
        "We want to make the parent of the current directory the new current directory\n",
        "* os.path.dirname() gets the parent directory\n",
        "* os.chir() defines the new current directory"
      ]
    },
    {
      "cell_type": "code",
      "execution_count": 2,
      "metadata": {},
      "outputs": [
        {
          "name": "stdout",
          "output_type": "stream",
          "text": [
            "You set a new current directory\n"
          ]
        }
      ],
      "source": [
        "os.chdir(os.path.dirname(current_dir))\n",
        "print(\"You set a new current directory\")"
      ]
    },
    {
      "cell_type": "markdown",
      "metadata": {
        "id": "M_xPk_Ijz3i-"
      },
      "source": [
        "Confirm the new current directory"
      ]
    },
    {
      "cell_type": "code",
      "execution_count": 3,
      "metadata": {
        "id": "vz3S-_kjz3jA",
        "outputId": "00b79ae4-75d0-4a96-d193-ac9ef9847ea2"
      },
      "outputs": [
        {
          "data": {
            "text/plain": [
              "'c:\\\\Users\\\\Andrias\\\\Desktop\\\\patient-readmission'"
            ]
          },
          "execution_count": 3,
          "metadata": {},
          "output_type": "execute_result"
        }
      ],
      "source": [
        "current_dir = os.getcwd()\n",
        "current_dir"
      ]
    },
    {
      "cell_type": "markdown",
      "metadata": {
        "id": "-mavJ8DibrcQ"
      },
      "source": [
        "## Load data"
      ]
    },
    {
      "cell_type": "markdown",
      "metadata": {},
      "source": [
        "We load our dataset and drop the 'medical_specialty' variable, as we determined in the Data Cleaning Notebook."
      ]
    },
    {
      "cell_type": "code",
      "execution_count": 4,
      "metadata": {},
      "outputs": [
        {
          "data": {
            "text/html": [
              "<div>\n",
              "<style scoped>\n",
              "    .dataframe tbody tr th:only-of-type {\n",
              "        vertical-align: middle;\n",
              "    }\n",
              "\n",
              "    .dataframe tbody tr th {\n",
              "        vertical-align: top;\n",
              "    }\n",
              "\n",
              "    .dataframe thead th {\n",
              "        text-align: right;\n",
              "    }\n",
              "</style>\n",
              "<table border=\"1\" class=\"dataframe\">\n",
              "  <thead>\n",
              "    <tr style=\"text-align: right;\">\n",
              "      <th></th>\n",
              "      <th>age</th>\n",
              "      <th>time_in_hospital</th>\n",
              "      <th>n_lab_procedures</th>\n",
              "      <th>n_procedures</th>\n",
              "      <th>n_medications</th>\n",
              "      <th>n_outpatient</th>\n",
              "      <th>n_inpatient</th>\n",
              "      <th>n_emergency</th>\n",
              "      <th>diag_1</th>\n",
              "      <th>diag_2</th>\n",
              "      <th>diag_3</th>\n",
              "      <th>glucose_test</th>\n",
              "      <th>A1Ctest</th>\n",
              "      <th>change</th>\n",
              "      <th>diabetes_med</th>\n",
              "      <th>readmitted</th>\n",
              "    </tr>\n",
              "  </thead>\n",
              "  <tbody>\n",
              "    <tr>\n",
              "      <th>0</th>\n",
              "      <td>[70-80)</td>\n",
              "      <td>8</td>\n",
              "      <td>72</td>\n",
              "      <td>1</td>\n",
              "      <td>18</td>\n",
              "      <td>2</td>\n",
              "      <td>0</td>\n",
              "      <td>0</td>\n",
              "      <td>Circulatory</td>\n",
              "      <td>Respiratory</td>\n",
              "      <td>Other</td>\n",
              "      <td>no</td>\n",
              "      <td>no</td>\n",
              "      <td>no</td>\n",
              "      <td>yes</td>\n",
              "      <td>0</td>\n",
              "    </tr>\n",
              "    <tr>\n",
              "      <th>1</th>\n",
              "      <td>[70-80)</td>\n",
              "      <td>3</td>\n",
              "      <td>34</td>\n",
              "      <td>2</td>\n",
              "      <td>13</td>\n",
              "      <td>0</td>\n",
              "      <td>0</td>\n",
              "      <td>0</td>\n",
              "      <td>Other</td>\n",
              "      <td>Other</td>\n",
              "      <td>Other</td>\n",
              "      <td>no</td>\n",
              "      <td>no</td>\n",
              "      <td>no</td>\n",
              "      <td>yes</td>\n",
              "      <td>0</td>\n",
              "    </tr>\n",
              "    <tr>\n",
              "      <th>2</th>\n",
              "      <td>[50-60)</td>\n",
              "      <td>5</td>\n",
              "      <td>45</td>\n",
              "      <td>0</td>\n",
              "      <td>18</td>\n",
              "      <td>0</td>\n",
              "      <td>0</td>\n",
              "      <td>0</td>\n",
              "      <td>Circulatory</td>\n",
              "      <td>Circulatory</td>\n",
              "      <td>Circulatory</td>\n",
              "      <td>no</td>\n",
              "      <td>no</td>\n",
              "      <td>yes</td>\n",
              "      <td>yes</td>\n",
              "      <td>1</td>\n",
              "    </tr>\n",
              "    <tr>\n",
              "      <th>3</th>\n",
              "      <td>[70-80)</td>\n",
              "      <td>2</td>\n",
              "      <td>36</td>\n",
              "      <td>0</td>\n",
              "      <td>12</td>\n",
              "      <td>1</td>\n",
              "      <td>0</td>\n",
              "      <td>0</td>\n",
              "      <td>Circulatory</td>\n",
              "      <td>Other</td>\n",
              "      <td>Diabetes</td>\n",
              "      <td>no</td>\n",
              "      <td>no</td>\n",
              "      <td>yes</td>\n",
              "      <td>yes</td>\n",
              "      <td>1</td>\n",
              "    </tr>\n",
              "    <tr>\n",
              "      <th>4</th>\n",
              "      <td>[60-70)</td>\n",
              "      <td>1</td>\n",
              "      <td>42</td>\n",
              "      <td>0</td>\n",
              "      <td>7</td>\n",
              "      <td>0</td>\n",
              "      <td>0</td>\n",
              "      <td>0</td>\n",
              "      <td>Other</td>\n",
              "      <td>Circulatory</td>\n",
              "      <td>Respiratory</td>\n",
              "      <td>no</td>\n",
              "      <td>no</td>\n",
              "      <td>no</td>\n",
              "      <td>yes</td>\n",
              "      <td>0</td>\n",
              "    </tr>\n",
              "  </tbody>\n",
              "</table>\n",
              "</div>"
            ],
            "text/plain": [
              "       age  time_in_hospital  n_lab_procedures  n_procedures  n_medications  \\\n",
              "0  [70-80)                 8                72             1             18   \n",
              "1  [70-80)                 3                34             2             13   \n",
              "2  [50-60)                 5                45             0             18   \n",
              "3  [70-80)                 2                36             0             12   \n",
              "4  [60-70)                 1                42             0              7   \n",
              "\n",
              "   n_outpatient  n_inpatient  n_emergency       diag_1       diag_2  \\\n",
              "0             2            0            0  Circulatory  Respiratory   \n",
              "1             0            0            0        Other        Other   \n",
              "2             0            0            0  Circulatory  Circulatory   \n",
              "3             1            0            0  Circulatory        Other   \n",
              "4             0            0            0        Other  Circulatory   \n",
              "\n",
              "        diag_3 glucose_test A1Ctest change diabetes_med  readmitted  \n",
              "0        Other           no      no     no          yes           0  \n",
              "1        Other           no      no     no          yes           0  \n",
              "2  Circulatory           no      no    yes          yes           1  \n",
              "3     Diabetes           no      no    yes          yes           1  \n",
              "4  Respiratory           no      no     no          yes           0  "
            ]
          },
          "execution_count": 4,
          "metadata": {},
          "output_type": "execute_result"
        }
      ],
      "source": [
        "import pandas as pd\n",
        "import numpy as np\n",
        "\n",
        "data_path = 'outputs/datasets/collection/HospitalReadmissions.csv'\n",
        "\n",
        "df = pd.read_csv(data_path).drop(labels=['medical_specialty'], axis=1)\n",
        "df.head()"
      ]
    },
    {
      "cell_type": "markdown",
      "metadata": {
        "id": "ZY3l0-AxO93d"
      },
      "source": [
        "---"
      ]
    },
    {
      "cell_type": "markdown",
      "metadata": {},
      "source": [
        "## Variables separation"
      ]
    },
    {
      "cell_type": "code",
      "execution_count": 5,
      "metadata": {},
      "outputs": [
        {
          "data": {
            "text/plain": [
              "['age',\n",
              " 'diag_1',\n",
              " 'diag_2',\n",
              " 'diag_3',\n",
              " 'glucose_test',\n",
              " 'A1Ctest',\n",
              " 'change',\n",
              " 'diabetes_med']"
            ]
          },
          "execution_count": 5,
          "metadata": {},
          "output_type": "execute_result"
        }
      ],
      "source": [
        "categorical_variables = df.select_dtypes(include='object').columns\n",
        "categorical_variables_list = categorical_variables.tolist()\n",
        "categorical_variables_list"
      ]
    },
    {
      "cell_type": "code",
      "execution_count": 6,
      "metadata": {},
      "outputs": [
        {
          "data": {
            "text/plain": [
              "['time_in_hospital',\n",
              " 'n_lab_procedures',\n",
              " 'n_procedures',\n",
              " 'n_medications',\n",
              " 'n_outpatient',\n",
              " 'n_inpatient',\n",
              " 'n_emergency']"
            ]
          },
          "execution_count": 6,
          "metadata": {},
          "output_type": "execute_result"
        }
      ],
      "source": [
        "numerical_variables = df.select_dtypes(include='number').columns.drop(labels=['readmitted'])\n",
        "numerical_variables_list = numerical_variables.tolist()\n",
        "numerical_variables_list"
      ]
    },
    {
      "cell_type": "code",
      "execution_count": 7,
      "metadata": {},
      "outputs": [
        {
          "data": {
            "text/plain": [
              "['time_in_hospital',\n",
              " 'n_lab_procedures',\n",
              " 'n_procedures',\n",
              " 'n_medications',\n",
              " 'n_inpatient']"
            ]
          },
          "execution_count": 7,
          "metadata": {},
          "output_type": "execute_result"
        }
      ],
      "source": [
        "num_vars_iqr = df.filter(['time_in_hospital', 'n_lab_procedures', 'n_procedures', 'n_medications', 'n_inpatient']).select_dtypes(include='number').columns\n",
        "num_vars_iqr_list = num_vars_iqr.to_list()\n",
        "num_vars_iqr_list"
      ]
    },
    {
      "cell_type": "code",
      "execution_count": 8,
      "metadata": {},
      "outputs": [
        {
          "data": {
            "text/plain": [
              "['n_emergency', 'n_outpatient']"
            ]
          },
          "execution_count": 8,
          "metadata": {},
          "output_type": "execute_result"
        }
      ],
      "source": [
        "num_vars_gausian = df.filter(['n_emergency','n_outpatient']).select_dtypes(include='number').columns\n",
        "num_vars_gausian_list = num_vars_gausian.to_list()\n",
        "num_vars_gausian_list"
      ]
    },
    {
      "cell_type": "markdown",
      "metadata": {
        "id": "uFQo3ycuO-v6"
      },
      "source": [
        "## Split to Train, Test and Validation sets"
      ]
    },
    {
      "cell_type": "code",
      "execution_count": 9,
      "metadata": {},
      "outputs": [
        {
          "name": "stdout",
          "output_type": "stream",
          "text": [
            "* Train set: (20000, 15) (20000,) \n",
            "* Test set: (5000, 15) (5000,)\n"
          ]
        }
      ],
      "source": [
        "from sklearn.model_selection import train_test_split\n",
        "\n",
        "X_train, X_test, y_train, y_test = train_test_split(\n",
        "    df.drop(['readmitted'], axis=1),\n",
        "    df['readmitted'],\n",
        "    test_size=0.2,\n",
        "    random_state=0\n",
        ")\n",
        "\n",
        "print(\"* Train set:\", X_train.shape, y_train.shape, \"\\n* Test set:\",  X_test.shape, y_test.shape)"
      ]
    },
    {
      "cell_type": "code",
      "execution_count": 10,
      "metadata": {},
      "outputs": [
        {
          "name": "stdout",
          "output_type": "stream",
          "text": [
            "* Train set: (16000, 15) (16000,)\n",
            "* Validation set: (4000, 15) (4000,)\n",
            "* Test set: (5000, 15) (5000,)\n"
          ]
        }
      ],
      "source": [
        "X_train, X_val, y_train, y_val = train_test_split(\n",
        "    X_train,\n",
        "    y_train,\n",
        "    test_size=0.2,\n",
        "    random_state=0\n",
        ")\n",
        "\n",
        "print(\"* Train set:\", X_train.shape, y_train.shape)\n",
        "print(\"* Validation set:\",  X_val.shape, y_val.shape)\n",
        "print(\"* Test set:\",   X_test.shape, y_test.shape)"
      ]
    },
    {
      "cell_type": "markdown",
      "metadata": {},
      "source": [
        "## Create Feature Engineering Pipeline"
      ]
    },
    {
      "cell_type": "code",
      "execution_count": 11,
      "metadata": {},
      "outputs": [],
      "source": [
        "from sklearn.pipeline import Pipeline\n",
        "from sklearn.preprocessing import StandardScaler\n",
        "from feature_engine.encoding import OneHotEncoder\n",
        "from feature_engine.outliers import Winsorizer\n",
        "\n",
        "def pipeline_for_feat_eng():\n",
        "    pipeline_base = Pipeline([\n",
        "        ('winsorizer_iqr', Winsorizer(capping_method='iqr', tail='both', fold=1.5, variables=num_vars_iqr_list)),\n",
        "        ('winsorizer_gaussian', Winsorizer(capping_method='gaussian', tail='both', fold=3, variables=num_vars_gausian_list)),\n",
        "        ('ordinalEncoder', OneHotEncoder(variables=categorical_variables_list)),\n",
        "        ('scaler', StandardScaler())\n",
        "    ])\n",
        "    \n",
        "    return pipeline_base"
      ]
    },
    {
      "cell_type": "code",
      "execution_count": 12,
      "metadata": {},
      "outputs": [
        {
          "data": {
            "text/plain": [
              "array([[-0.83537596,  0.14795637, -0.82212825, -0.41407702, -0.37833337,\n",
              "        -0.63518958, -0.31508051,  2.13663693, -0.60932081, -0.33587384,\n",
              "        -0.46752903, -0.56098868, -0.17415611,  3.59684337, -0.67586749,\n",
              "        -0.59583014, -0.31819143, -0.22285004, -0.26474697, -0.41626744,\n",
              "        -0.01581337,  1.32290814, -0.36400938, -0.69359215, -0.19857872,\n",
              "        -0.15597367, -0.36169319, -0.12751534, -0.0344806 ,  1.50067735,\n",
              "        -0.19738551, -0.45006158, -0.08692914, -0.29186845, -0.13224249,\n",
              "        -0.75979409, -0.13297454,  0.24139397, -0.1689439 , -0.16756915,\n",
              "         4.38201098, -2.26552816, -0.35792614,  1.09844991, -1.09844991,\n",
              "         0.55193427, -0.55193427],\n",
              "       [-1.17846379, -0.45825396, -0.18832021, -1.66559014, -0.37833337,\n",
              "        -0.63518958, -0.31508051, -0.46802523,  1.64117157, -0.33587384,\n",
              "        -0.46752903, -0.56098868, -0.17415611, -0.27802156,  1.47957996,\n",
              "        -0.59583014, -0.31819143, -0.22285004, -0.26474697, -0.41626744,\n",
              "        -0.01581337, -0.75591039,  2.74718193, -0.69359215, -0.19857872,\n",
              "        -0.15597367, -0.36169319, -0.12751534, -0.0344806 ,  1.50067735,\n",
              "        -0.19738551, -0.45006158, -0.08692914, -0.29186845, -0.13224249,\n",
              "        -0.75979409, -0.13297454,  0.24139397, -0.1689439 , -0.16756915,\n",
              "        -0.22820573,  0.44139818, -0.35792614,  1.09844991, -1.09844991,\n",
              "         0.55193427, -0.55193427]])"
            ]
          },
          "execution_count": 12,
          "metadata": {},
          "output_type": "execute_result"
        }
      ],
      "source": [
        "pipeline = pipeline_for_feat_eng()\n",
        "X_train = pipeline.fit_transform(X_train)\n",
        "X_val = pipeline.transform(X_val)\n",
        "X_test = pipeline.transform(X_test)\n",
        "\n",
        "X_train[:2,]"
      ]
    },
    {
      "cell_type": "markdown",
      "metadata": {},
      "source": [
        "### Target Imbalance"
      ]
    },
    {
      "cell_type": "code",
      "execution_count": 13,
      "metadata": {},
      "outputs": [],
      "source": [
        "import matplotlib.pyplot as plt\n",
        "from imblearn.over_sampling import SMOTE"
      ]
    },
    {
      "cell_type": "code",
      "execution_count": 14,
      "metadata": {},
      "outputs": [
        {
          "data": {
            "image/png": "[encoded data removed]",
            "text/plain": [
              "<Figure size 640x480 with 1 Axes>"
            ]
          },
          "metadata": {},
          "output_type": "display_data"
        }
      ],
      "source": [
        "y_train.value_counts().plot(kind='bar', title='Train Set Target Distribution')\n",
        "plt.show()"
      ]
    },
    {
      "cell_type": "code",
      "execution_count": 15,
      "metadata": {},
      "outputs": [
        {
          "data": {
            "image/png": "[encoded data removed]",
            "text/plain": [
              "<Figure size 640x480 with 1 Axes>"
            ]
          },
          "metadata": {},
          "output_type": "display_data"
        }
      ],
      "source": [
        "y_val.value_counts().plot(kind='bar', title='Train Set Target Distribution')\n",
        "plt.show()"
      ]
    },
    {
      "cell_type": "code",
      "execution_count": 16,
      "metadata": {},
      "outputs": [
        {
          "name": "stdout",
          "output_type": "stream",
          "text": [
            "(17154, 47) (17154,) (4206, 47) (4206,) (5000, 47) (5000,)\n"
          ]
        }
      ],
      "source": [
        "oversample = SMOTE(sampling_strategy='minority', random_state=0)\n",
        "X_train, y_train= oversample.fit_resample(X_train, y_train)\n",
        "X_val, y_val= oversample.fit_resample(X_val, y_val)\n",
        "\n",
        "print(X_train.shape, y_train.shape, X_val.shape, y_val.shape, X_test.shape, y_test.shape)"
      ]
    },
    {
      "cell_type": "code",
      "execution_count": 17,
      "metadata": {},
      "outputs": [
        {
          "data": {
            "image/png": "[encoded data removed]",
            "text/plain": [
              "<Figure size 640x480 with 1 Axes>"
            ]
          },
          "metadata": {},
          "output_type": "display_data"
        }
      ],
      "source": [
        "y_train.value_counts().plot(kind='bar', title='Train Set Target Distribution')\n",
        "plt.show()"
      ]
    },
    {
      "cell_type": "code",
      "execution_count": 18,
      "metadata": {},
      "outputs": [
        {
          "data": {
            "image/png": "[encoded data removed]",
            "text/plain": [
              "<Figure size 640x480 with 1 Axes>"
            ]
          },
          "metadata": {},
          "output_type": "display_data"
        }
      ],
      "source": [
        "y_val.value_counts().plot(kind='bar', title='Train Set Target Distribution')\n",
        "plt.show()"
      ]
    },
    {
      "cell_type": "markdown",
      "metadata": {},
      "source": [
        "## Build, fit_transform and evaluate the artificial neuron network"
      ]
    },
    {
      "cell_type": "code",
      "execution_count": 87,
      "metadata": {},
      "outputs": [],
      "source": [
        "import tensorflow as tf;\n",
        "\n",
        "os.environ['TF_CPP_MIN_LOG_LEVEL'] = '2';\n",
        "\n",
        "from tensorflow.keras.models import Sequential\n",
        "from tensorflow.keras.layers import Dense,Dropout,BatchNormalization\n",
        "\n",
        "def create_tf_model(n_features, activation='relu', optimizer='adam'):\n",
        "\n",
        "    model = Sequential()\n",
        "    model.add(Dense(units=n_features,activation=activation, input_shape=(n_features,)))\n",
        "    model.add(BatchNormalization())\n",
        "    model.add(Dropout(0.3))\n",
        "    \n",
        "    model.add(Dense(units=128,activation=activation))\n",
        "    model.add(BatchNormalization())\n",
        "    model.add(Dropout(0.3))\n",
        "\n",
        "    model.add(Dense(units=64,activation=activation))\n",
        "    model.add(BatchNormalization())\n",
        "    model.add(Dropout(0.3))\n",
        "    \n",
        "    model.add(Dense(units=32,activation=activation))\n",
        "    model.add(BatchNormalization())\n",
        "    model.add(Dropout(0.3))\n",
        "    \n",
        "    model.add(Dense(units=16,activation=activation))\n",
        "    model.add(BatchNormalization())\n",
        "    model.add(Dropout(0.3))\n",
        "    \n",
        "    model.add(Dense(units=4,activation=activation))\n",
        "    model.add(BatchNormalization())\n",
        "    model.add(Dropout(0.3))\n",
        "\n",
        "    # note we use 1 neuron and sigmoid\n",
        "    model.add(Dense(units=1,activation='sigmoid'))\n",
        "    model.compile(loss='binary_crossentropy', optimizer=optimizer, metrics=['accuracy'])\n",
        "    \n",
        "    return model"
      ]
    },
    {
      "cell_type": "code",
      "execution_count": 88,
      "metadata": {},
      "outputs": [
        {
          "name": "stderr",
          "output_type": "stream",
          "text": [
            "c:\\Users\\Andrias\\Desktop\\project_venv\\Lib\\site-packages\\keras\\src\\layers\\core\\dense.py:87: UserWarning: Do not pass an `input_shape`/`input_dim` argument to a layer. When using Sequential models, prefer using an `Input(shape)` object as the first layer in the model instead.\n",
            "  super().__init__(activity_regularizer=activity_regularizer, **kwargs)\n"
          ]
        },
        {
          "data": {
            "text/html": [
              "<pre style=\"white-space:pre;overflow-x:auto;line-height:normal;font-family:Menlo,'DejaVu Sans Mono',consolas,'Courier New',monospace\"><span style=\"font-weight: bold\">Model: \"sequential_14\"</span>\n",
              "</pre>\n"
            ],
            "text/plain": [
              "\u001b[1mModel: \"sequential_14\"\u001b[0m\n"
            ]
          },
          "metadata": {},
          "output_type": "display_data"
        },
        {
          "data": {
            "text/html": [
              "<pre style=\"white-space:pre;overflow-x:auto;line-height:normal;font-family:Menlo,'DejaVu Sans Mono',consolas,'Courier New',monospace\">┏━━━━━━━━━━━━━━━━━━━━━━━━━━━━━━━━━┳━━━━━━━━━━━━━━━━━━━━━━━━┳━━━━━━━━━━━━━━━┓\n",
              "┃<span style=\"font-weight: bold\"> Layer (type)                    </span>┃<span style=\"font-weight: bold\"> Output Shape           </span>┃<span style=\"font-weight: bold\">       Param # </span>┃\n",
              "┡━━━━━━━━━━━━━━━━━━━━━━━━━━━━━━━━━╇━━━━━━━━━━━━━━━━━━━━━━━━╇━━━━━━━━━━━━━━━┩\n",
              "│ dense_108 (<span style=\"color: #0087ff; text-decoration-color: #0087ff\">Dense</span>)               │ (<span style=\"color: #00d7ff; text-decoration-color: #00d7ff\">None</span>, <span style=\"color: #00af00; text-decoration-color: #00af00\">47</span>)             │         <span style=\"color: #00af00; text-decoration-color: #00af00\">2,256</span> │\n",
              "├─────────────────────────────────┼────────────────────────┼───────────────┤\n",
              "│ batch_normalization_72          │ (<span style=\"color: #00d7ff; text-decoration-color: #00d7ff\">None</span>, <span style=\"color: #00af00; text-decoration-color: #00af00\">47</span>)             │           <span style=\"color: #00af00; text-decoration-color: #00af00\">188</span> │\n",
              "│ (<span style=\"color: #0087ff; text-decoration-color: #0087ff\">BatchNormalization</span>)            │                        │               │\n",
              "├─────────────────────────────────┼────────────────────────┼───────────────┤\n",
              "│ dropout_94 (<span style=\"color: #0087ff; text-decoration-color: #0087ff\">Dropout</span>)            │ (<span style=\"color: #00d7ff; text-decoration-color: #00d7ff\">None</span>, <span style=\"color: #00af00; text-decoration-color: #00af00\">47</span>)             │             <span style=\"color: #00af00; text-decoration-color: #00af00\">0</span> │\n",
              "├─────────────────────────────────┼────────────────────────┼───────────────┤\n",
              "│ dense_109 (<span style=\"color: #0087ff; text-decoration-color: #0087ff\">Dense</span>)               │ (<span style=\"color: #00d7ff; text-decoration-color: #00d7ff\">None</span>, <span style=\"color: #00af00; text-decoration-color: #00af00\">128</span>)            │         <span style=\"color: #00af00; text-decoration-color: #00af00\">6,144</span> │\n",
              "├─────────────────────────────────┼────────────────────────┼───────────────┤\n",
              "│ batch_normalization_73          │ (<span style=\"color: #00d7ff; text-decoration-color: #00d7ff\">None</span>, <span style=\"color: #00af00; text-decoration-color: #00af00\">128</span>)            │           <span style=\"color: #00af00; text-decoration-color: #00af00\">512</span> │\n",
              "│ (<span style=\"color: #0087ff; text-decoration-color: #0087ff\">BatchNormalization</span>)            │                        │               │\n",
              "├─────────────────────────────────┼────────────────────────┼───────────────┤\n",
              "│ dropout_95 (<span style=\"color: #0087ff; text-decoration-color: #0087ff\">Dropout</span>)            │ (<span style=\"color: #00d7ff; text-decoration-color: #00d7ff\">None</span>, <span style=\"color: #00af00; text-decoration-color: #00af00\">128</span>)            │             <span style=\"color: #00af00; text-decoration-color: #00af00\">0</span> │\n",
              "├─────────────────────────────────┼────────────────────────┼───────────────┤\n",
              "│ dense_110 (<span style=\"color: #0087ff; text-decoration-color: #0087ff\">Dense</span>)               │ (<span style=\"color: #00d7ff; text-decoration-color: #00d7ff\">None</span>, <span style=\"color: #00af00; text-decoration-color: #00af00\">64</span>)             │         <span style=\"color: #00af00; text-decoration-color: #00af00\">8,256</span> │\n",
              "├─────────────────────────────────┼────────────────────────┼───────────────┤\n",
              "│ batch_normalization_74          │ (<span style=\"color: #00d7ff; text-decoration-color: #00d7ff\">None</span>, <span style=\"color: #00af00; text-decoration-color: #00af00\">64</span>)             │           <span style=\"color: #00af00; text-decoration-color: #00af00\">256</span> │\n",
              "│ (<span style=\"color: #0087ff; text-decoration-color: #0087ff\">BatchNormalization</span>)            │                        │               │\n",
              "├─────────────────────────────────┼────────────────────────┼───────────────┤\n",
              "│ dropout_96 (<span style=\"color: #0087ff; text-decoration-color: #0087ff\">Dropout</span>)            │ (<span style=\"color: #00d7ff; text-decoration-color: #00d7ff\">None</span>, <span style=\"color: #00af00; text-decoration-color: #00af00\">64</span>)             │             <span style=\"color: #00af00; text-decoration-color: #00af00\">0</span> │\n",
              "├─────────────────────────────────┼────────────────────────┼───────────────┤\n",
              "│ dense_111 (<span style=\"color: #0087ff; text-decoration-color: #0087ff\">Dense</span>)               │ (<span style=\"color: #00d7ff; text-decoration-color: #00d7ff\">None</span>, <span style=\"color: #00af00; text-decoration-color: #00af00\">32</span>)             │         <span style=\"color: #00af00; text-decoration-color: #00af00\">2,080</span> │\n",
              "├─────────────────────────────────┼────────────────────────┼───────────────┤\n",
              "│ batch_normalization_75          │ (<span style=\"color: #00d7ff; text-decoration-color: #00d7ff\">None</span>, <span style=\"color: #00af00; text-decoration-color: #00af00\">32</span>)             │           <span style=\"color: #00af00; text-decoration-color: #00af00\">128</span> │\n",
              "│ (<span style=\"color: #0087ff; text-decoration-color: #0087ff\">BatchNormalization</span>)            │                        │               │\n",
              "├─────────────────────────────────┼────────────────────────┼───────────────┤\n",
              "│ dropout_97 (<span style=\"color: #0087ff; text-decoration-color: #0087ff\">Dropout</span>)            │ (<span style=\"color: #00d7ff; text-decoration-color: #00d7ff\">None</span>, <span style=\"color: #00af00; text-decoration-color: #00af00\">32</span>)             │             <span style=\"color: #00af00; text-decoration-color: #00af00\">0</span> │\n",
              "├─────────────────────────────────┼────────────────────────┼───────────────┤\n",
              "│ dense_112 (<span style=\"color: #0087ff; text-decoration-color: #0087ff\">Dense</span>)               │ (<span style=\"color: #00d7ff; text-decoration-color: #00d7ff\">None</span>, <span style=\"color: #00af00; text-decoration-color: #00af00\">16</span>)             │           <span style=\"color: #00af00; text-decoration-color: #00af00\">528</span> │\n",
              "├─────────────────────────────────┼────────────────────────┼───────────────┤\n",
              "│ batch_normalization_76          │ (<span style=\"color: #00d7ff; text-decoration-color: #00d7ff\">None</span>, <span style=\"color: #00af00; text-decoration-color: #00af00\">16</span>)             │            <span style=\"color: #00af00; text-decoration-color: #00af00\">64</span> │\n",
              "│ (<span style=\"color: #0087ff; text-decoration-color: #0087ff\">BatchNormalization</span>)            │                        │               │\n",
              "├─────────────────────────────────┼────────────────────────┼───────────────┤\n",
              "│ dropout_98 (<span style=\"color: #0087ff; text-decoration-color: #0087ff\">Dropout</span>)            │ (<span style=\"color: #00d7ff; text-decoration-color: #00d7ff\">None</span>, <span style=\"color: #00af00; text-decoration-color: #00af00\">16</span>)             │             <span style=\"color: #00af00; text-decoration-color: #00af00\">0</span> │\n",
              "├─────────────────────────────────┼────────────────────────┼───────────────┤\n",
              "│ dense_113 (<span style=\"color: #0087ff; text-decoration-color: #0087ff\">Dense</span>)               │ (<span style=\"color: #00d7ff; text-decoration-color: #00d7ff\">None</span>, <span style=\"color: #00af00; text-decoration-color: #00af00\">4</span>)              │            <span style=\"color: #00af00; text-decoration-color: #00af00\">68</span> │\n",
              "├─────────────────────────────────┼────────────────────────┼───────────────┤\n",
              "│ batch_normalization_77          │ (<span style=\"color: #00d7ff; text-decoration-color: #00d7ff\">None</span>, <span style=\"color: #00af00; text-decoration-color: #00af00\">4</span>)              │            <span style=\"color: #00af00; text-decoration-color: #00af00\">16</span> │\n",
              "│ (<span style=\"color: #0087ff; text-decoration-color: #0087ff\">BatchNormalization</span>)            │                        │               │\n",
              "├─────────────────────────────────┼────────────────────────┼───────────────┤\n",
              "│ dropout_99 (<span style=\"color: #0087ff; text-decoration-color: #0087ff\">Dropout</span>)            │ (<span style=\"color: #00d7ff; text-decoration-color: #00d7ff\">None</span>, <span style=\"color: #00af00; text-decoration-color: #00af00\">4</span>)              │             <span style=\"color: #00af00; text-decoration-color: #00af00\">0</span> │\n",
              "├─────────────────────────────────┼────────────────────────┼───────────────┤\n",
              "│ dense_114 (<span style=\"color: #0087ff; text-decoration-color: #0087ff\">Dense</span>)               │ (<span style=\"color: #00d7ff; text-decoration-color: #00d7ff\">None</span>, <span style=\"color: #00af00; text-decoration-color: #00af00\">1</span>)              │             <span style=\"color: #00af00; text-decoration-color: #00af00\">5</span> │\n",
              "└─────────────────────────────────┴────────────────────────┴───────────────┘\n",
              "</pre>\n"
            ],
            "text/plain": [
              "┏━━━━━━━━━━━━━━━━━━━━━━━━━━━━━━━━━┳━━━━━━━━━━━━━━━━━━━━━━━━┳━━━━━━━━━━━━━━━┓\n",
              "┃\u001b[1m \u001b[0m\u001b[1mLayer (type)                   \u001b[0m\u001b[1m \u001b[0m┃\u001b[1m \u001b[0m\u001b[1mOutput Shape          \u001b[0m\u001b[1m \u001b[0m┃\u001b[1m \u001b[0m\u001b[1m      Param #\u001b[0m\u001b[1m \u001b[0m┃\n",
              "┡━━━━━━━━━━━━━━━━━━━━━━━━━━━━━━━━━╇━━━━━━━━━━━━━━━━━━━━━━━━╇━━━━━━━━━━━━━━━┩\n",
              "│ dense_108 (\u001b[38;5;33mDense\u001b[0m)               │ (\u001b[38;5;45mNone\u001b[0m, \u001b[38;5;34m47\u001b[0m)             │         \u001b[38;5;34m2,256\u001b[0m │\n",
              "├─────────────────────────────────┼────────────────────────┼───────────────┤\n",
              "│ batch_normalization_72          │ (\u001b[38;5;45mNone\u001b[0m, \u001b[38;5;34m47\u001b[0m)             │           \u001b[38;5;34m188\u001b[0m │\n",
              "│ (\u001b[38;5;33mBatchNormalization\u001b[0m)            │                        │               │\n",
              "├─────────────────────────────────┼────────────────────────┼───────────────┤\n",
              "│ dropout_94 (\u001b[38;5;33mDropout\u001b[0m)            │ (\u001b[38;5;45mNone\u001b[0m, \u001b[38;5;34m47\u001b[0m)             │             \u001b[38;5;34m0\u001b[0m │\n",
              "├─────────────────────────────────┼────────────────────────┼───────────────┤\n",
              "│ dense_109 (\u001b[38;5;33mDense\u001b[0m)               │ (\u001b[38;5;45mNone\u001b[0m, \u001b[38;5;34m128\u001b[0m)            │         \u001b[38;5;34m6,144\u001b[0m │\n",
              "├─────────────────────────────────┼────────────────────────┼───────────────┤\n",
              "│ batch_normalization_73          │ (\u001b[38;5;45mNone\u001b[0m, \u001b[38;5;34m128\u001b[0m)            │           \u001b[38;5;34m512\u001b[0m │\n",
              "│ (\u001b[38;5;33mBatchNormalization\u001b[0m)            │                        │               │\n",
              "├─────────────────────────────────┼────────────────────────┼───────────────┤\n",
              "│ dropout_95 (\u001b[38;5;33mDropout\u001b[0m)            │ (\u001b[38;5;45mNone\u001b[0m, \u001b[38;5;34m128\u001b[0m)            │             \u001b[38;5;34m0\u001b[0m │\n",
              "├─────────────────────────────────┼────────────────────────┼───────────────┤\n",
              "│ dense_110 (\u001b[38;5;33mDense\u001b[0m)               │ (\u001b[38;5;45mNone\u001b[0m, \u001b[38;5;34m64\u001b[0m)             │         \u001b[38;5;34m8,256\u001b[0m │\n",
              "├─────────────────────────────────┼────────────────────────┼───────────────┤\n",
              "│ batch_normalization_74          │ (\u001b[38;5;45mNone\u001b[0m, \u001b[38;5;34m64\u001b[0m)             │           \u001b[38;5;34m256\u001b[0m │\n",
              "│ (\u001b[38;5;33mBatchNormalization\u001b[0m)            │                        │               │\n",
              "├─────────────────────────────────┼────────────────────────┼───────────────┤\n",
              "│ dropout_96 (\u001b[38;5;33mDropout\u001b[0m)            │ (\u001b[38;5;45mNone\u001b[0m, \u001b[38;5;34m64\u001b[0m)             │             \u001b[38;5;34m0\u001b[0m │\n",
              "├─────────────────────────────────┼────────────────────────┼───────────────┤\n",
              "│ dense_111 (\u001b[38;5;33mDense\u001b[0m)               │ (\u001b[38;5;45mNone\u001b[0m, \u001b[38;5;34m32\u001b[0m)             │         \u001b[38;5;34m2,080\u001b[0m │\n",
              "├─────────────────────────────────┼────────────────────────┼───────────────┤\n",
              "│ batch_normalization_75          │ (\u001b[38;5;45mNone\u001b[0m, \u001b[38;5;34m32\u001b[0m)             │           \u001b[38;5;34m128\u001b[0m │\n",
              "│ (\u001b[38;5;33mBatchNormalization\u001b[0m)            │                        │               │\n",
              "├─────────────────────────────────┼────────────────────────┼───────────────┤\n",
              "│ dropout_97 (\u001b[38;5;33mDropout\u001b[0m)            │ (\u001b[38;5;45mNone\u001b[0m, \u001b[38;5;34m32\u001b[0m)             │             \u001b[38;5;34m0\u001b[0m │\n",
              "├─────────────────────────────────┼────────────────────────┼───────────────┤\n",
              "│ dense_112 (\u001b[38;5;33mDense\u001b[0m)               │ (\u001b[38;5;45mNone\u001b[0m, \u001b[38;5;34m16\u001b[0m)             │           \u001b[38;5;34m528\u001b[0m │\n",
              "├─────────────────────────────────┼────────────────────────┼───────────────┤\n",
              "│ batch_normalization_76          │ (\u001b[38;5;45mNone\u001b[0m, \u001b[38;5;34m16\u001b[0m)             │            \u001b[38;5;34m64\u001b[0m │\n",
              "│ (\u001b[38;5;33mBatchNormalization\u001b[0m)            │                        │               │\n",
              "├─────────────────────────────────┼────────────────────────┼───────────────┤\n",
              "│ dropout_98 (\u001b[38;5;33mDropout\u001b[0m)            │ (\u001b[38;5;45mNone\u001b[0m, \u001b[38;5;34m16\u001b[0m)             │             \u001b[38;5;34m0\u001b[0m │\n",
              "├─────────────────────────────────┼────────────────────────┼───────────────┤\n",
              "│ dense_113 (\u001b[38;5;33mDense\u001b[0m)               │ (\u001b[38;5;45mNone\u001b[0m, \u001b[38;5;34m4\u001b[0m)              │            \u001b[38;5;34m68\u001b[0m │\n",
              "├─────────────────────────────────┼────────────────────────┼───────────────┤\n",
              "│ batch_normalization_77          │ (\u001b[38;5;45mNone\u001b[0m, \u001b[38;5;34m4\u001b[0m)              │            \u001b[38;5;34m16\u001b[0m │\n",
              "│ (\u001b[38;5;33mBatchNormalization\u001b[0m)            │                        │               │\n",
              "├─────────────────────────────────┼────────────────────────┼───────────────┤\n",
              "│ dropout_99 (\u001b[38;5;33mDropout\u001b[0m)            │ (\u001b[38;5;45mNone\u001b[0m, \u001b[38;5;34m4\u001b[0m)              │             \u001b[38;5;34m0\u001b[0m │\n",
              "├─────────────────────────────────┼────────────────────────┼───────────────┤\n",
              "│ dense_114 (\u001b[38;5;33mDense\u001b[0m)               │ (\u001b[38;5;45mNone\u001b[0m, \u001b[38;5;34m1\u001b[0m)              │             \u001b[38;5;34m5\u001b[0m │\n",
              "└─────────────────────────────────┴────────────────────────┴───────────────┘\n"
            ]
          },
          "metadata": {},
          "output_type": "display_data"
        },
        {
          "data": {
            "text/html": [
              "<pre style=\"white-space:pre;overflow-x:auto;line-height:normal;font-family:Menlo,'DejaVu Sans Mono',consolas,'Courier New',monospace\"><span style=\"font-weight: bold\"> Total params: </span><span style=\"color: #00af00; text-decoration-color: #00af00\">20,501</span> (80.08 KB)\n",
              "</pre>\n"
            ],
            "text/plain": [
              "\u001b[1m Total params: \u001b[0m\u001b[38;5;34m20,501\u001b[0m (80.08 KB)\n"
            ]
          },
          "metadata": {},
          "output_type": "display_data"
        },
        {
          "data": {
            "text/html": [
              "<pre style=\"white-space:pre;overflow-x:auto;line-height:normal;font-family:Menlo,'DejaVu Sans Mono',consolas,'Courier New',monospace\"><span style=\"font-weight: bold\"> Trainable params: </span><span style=\"color: #00af00; text-decoration-color: #00af00\">19,919</span> (77.81 KB)\n",
              "</pre>\n"
            ],
            "text/plain": [
              "\u001b[1m Trainable params: \u001b[0m\u001b[38;5;34m19,919\u001b[0m (77.81 KB)\n"
            ]
          },
          "metadata": {},
          "output_type": "display_data"
        },
        {
          "data": {
            "text/html": [
              "<pre style=\"white-space:pre;overflow-x:auto;line-height:normal;font-family:Menlo,'DejaVu Sans Mono',consolas,'Courier New',monospace\"><span style=\"font-weight: bold\"> Non-trainable params: </span><span style=\"color: #00af00; text-decoration-color: #00af00\">582</span> (2.27 KB)\n",
              "</pre>\n"
            ],
            "text/plain": [
              "\u001b[1m Non-trainable params: \u001b[0m\u001b[38;5;34m582\u001b[0m (2.27 KB)\n"
            ]
          },
          "metadata": {},
          "output_type": "display_data"
        }
      ],
      "source": [
        "model = create_tf_model(n_features=X_train.shape[1])\n",
        "model.summary()"
      ]
    },
    {
      "cell_type": "code",
      "execution_count": 79,
      "metadata": {},
      "outputs": [],
      "source": [
        "# from tensorflow.keras.utils import plot_model\n",
        "# plot_model(model, show_shapes=True)"
      ]
    },
    {
      "cell_type": "code",
      "execution_count": 96,
      "metadata": {},
      "outputs": [],
      "source": [
        "from tensorflow.keras.callbacks import EarlyStopping, ReduceLROnPlateau\n",
        "\n",
        "early_stop = EarlyStopping(monitor='val_accuracy', mode='max', verbose=1, patience=20)\n",
        "reduce_lr = ReduceLROnPlateau(monitor='val_loss', factor=0.2, patience=5, min_lr=0.001)"
      ]
    },
    {
      "cell_type": "code",
      "execution_count": 97,
      "metadata": {},
      "outputs": [
        {
          "name": "stderr",
          "output_type": "stream",
          "text": [
            "c:\\Users\\Andrias\\Desktop\\project_venv\\Lib\\site-packages\\keras\\src\\layers\\core\\dense.py:87: UserWarning: Do not pass an `input_shape`/`input_dim` argument to a layer. When using Sequential models, prefer using an `Input(shape)` object as the first layer in the model instead.\n",
            "  super().__init__(activity_regularizer=activity_regularizer, **kwargs)\n"
          ]
        },
        {
          "name": "stdout",
          "output_type": "stream",
          "text": [
            "Epoch 1/100\n",
            "\u001b[1m1073/1073\u001b[0m \u001b[32m━━━━━━━━━━━━━━━━━━━━\u001b[0m\u001b[37m\u001b[0m \u001b[1m40s\u001b[0m 22ms/step - accuracy: 0.5076 - loss: 0.7657 - val_accuracy: 0.5214 - val_loss: 0.6923 - learning_rate: 0.0010\n",
            "Epoch 2/100\n",
            "\u001b[1m1073/1073\u001b[0m \u001b[32m━━━━━━━━━━━━━━━━━━━━\u001b[0m\u001b[37m\u001b[0m \u001b[1m45s\u001b[0m 25ms/step - accuracy: 0.5157 - loss: 0.6966 - val_accuracy: 0.5497 - val_loss: 0.6887 - learning_rate: 0.0010\n",
            "Epoch 3/100\n",
            "\u001b[1m1073/1073\u001b[0m \u001b[32m━━━━━━━━━━━━━━━━━━━━\u001b[0m\u001b[37m\u001b[0m \u001b[1m16s\u001b[0m 14ms/step - accuracy: 0.5274 - loss: 0.6917 - val_accuracy: 0.5685 - val_loss: 0.6855 - learning_rate: 0.0010\n",
            "Epoch 4/100\n",
            "\u001b[1m1073/1073\u001b[0m \u001b[32m━━━━━━━━━━━━━━━━━━━━\u001b[0m\u001b[37m\u001b[0m \u001b[1m26s\u001b[0m 18ms/step - accuracy: 0.5550 - loss: 0.6845 - val_accuracy: 0.5908 - val_loss: 0.6765 - learning_rate: 0.0010\n",
            "Epoch 5/100\n",
            "\u001b[1m1073/1073\u001b[0m \u001b[32m━━━━━━━━━━━━━━━━━━━━\u001b[0m\u001b[37m\u001b[0m \u001b[1m9s\u001b[0m 9ms/step - accuracy: 0.5684 - loss: 0.6782 - val_accuracy: 0.5961 - val_loss: 0.6677 - learning_rate: 0.0010\n",
            "Epoch 6/100\n",
            "\u001b[1m1073/1073\u001b[0m \u001b[32m━━━━━━━━━━━━━━━━━━━━\u001b[0m\u001b[37m\u001b[0m \u001b[1m13s\u001b[0m 12ms/step - accuracy: 0.5770 - loss: 0.6771 - val_accuracy: 0.6098 - val_loss: 0.6628 - learning_rate: 0.0010\n",
            "Epoch 7/100\n",
            "\u001b[1m1073/1073\u001b[0m \u001b[32m━━━━━━━━━━━━━━━━━━━━\u001b[0m\u001b[37m\u001b[0m \u001b[1m12s\u001b[0m 11ms/step - accuracy: 0.5998 - loss: 0.6686 - val_accuracy: 0.6032 - val_loss: 0.6632 - learning_rate: 0.0010\n",
            "Epoch 8/100\n",
            "\u001b[1m1073/1073\u001b[0m \u001b[32m━━━━━━━━━━━━━━━━━━━━\u001b[0m\u001b[37m\u001b[0m \u001b[1m10s\u001b[0m 9ms/step - accuracy: 0.5947 - loss: 0.6683 - val_accuracy: 0.6056 - val_loss: 0.6616 - learning_rate: 0.0010\n",
            "Epoch 9/100\n",
            "\u001b[1m1073/1073\u001b[0m \u001b[32m━━━━━━━━━━━━━━━━━━━━\u001b[0m\u001b[37m\u001b[0m \u001b[1m12s\u001b[0m 11ms/step - accuracy: 0.5958 - loss: 0.6689 - val_accuracy: 0.5994 - val_loss: 0.6622 - learning_rate: 0.0010\n",
            "Epoch 10/100\n",
            "\u001b[1m1073/1073\u001b[0m \u001b[32m━━━━━━━━━━━━━━━━━━━━\u001b[0m\u001b[37m\u001b[0m \u001b[1m30s\u001b[0m 20ms/step - accuracy: 0.5988 - loss: 0.6678 - val_accuracy: 0.5961 - val_loss: 0.6614 - learning_rate: 0.0010\n",
            "Epoch 11/100\n",
            "\u001b[1m1073/1073\u001b[0m \u001b[32m━━━━━━━━━━━━━━━━━━━━\u001b[0m\u001b[37m\u001b[0m \u001b[1m14s\u001b[0m 13ms/step - accuracy: 0.6028 - loss: 0.6662 - val_accuracy: 0.6089 - val_loss: 0.6607 - learning_rate: 0.0010\n",
            "Epoch 12/100\n",
            "\u001b[1m1073/1073\u001b[0m \u001b[32m━━━━━━━━━━━━━━━━━━━━\u001b[0m\u001b[37m\u001b[0m \u001b[1m11s\u001b[0m 10ms/step - accuracy: 0.6137 - loss: 0.6622 - val_accuracy: 0.6113 - val_loss: 0.6614 - learning_rate: 0.0010\n",
            "Epoch 13/100\n",
            "\u001b[1m1073/1073\u001b[0m \u001b[32m━━━━━━━━━━━━━━━━━━━━\u001b[0m\u001b[37m\u001b[0m \u001b[1m18s\u001b[0m 7ms/step - accuracy: 0.6071 - loss: 0.6640 - val_accuracy: 0.6063 - val_loss: 0.6598 - learning_rate: 0.0010\n",
            "Epoch 14/100\n",
            "\u001b[1m1073/1073\u001b[0m \u001b[32m━━━━━━━━━━━━━━━━━━━━\u001b[0m\u001b[37m\u001b[0m \u001b[1m10s\u001b[0m 7ms/step - accuracy: 0.6071 - loss: 0.6645 - val_accuracy: 0.6082 - val_loss: 0.6593 - learning_rate: 0.0010\n",
            "Epoch 15/100\n",
            "\u001b[1m1073/1073\u001b[0m \u001b[32m━━━━━━━━━━━━━━━━━━━━\u001b[0m\u001b[37m\u001b[0m \u001b[1m8s\u001b[0m 7ms/step - accuracy: 0.6097 - loss: 0.6634 - val_accuracy: 0.6068 - val_loss: 0.6592 - learning_rate: 0.0010\n",
            "Epoch 16/100\n",
            "\u001b[1m1073/1073\u001b[0m \u001b[32m━━━━━━━━━━━━━━━━━━━━\u001b[0m\u001b[37m\u001b[0m \u001b[1m17s\u001b[0m 16ms/step - accuracy: 0.6103 - loss: 0.6605 - val_accuracy: 0.6060 - val_loss: 0.6605 - learning_rate: 0.0010\n",
            "Epoch 17/100\n",
            "\u001b[1m1073/1073\u001b[0m \u001b[32m━━━━━━━━━━━━━━━━━━━━\u001b[0m\u001b[37m\u001b[0m \u001b[1m9s\u001b[0m 8ms/step - accuracy: 0.6141 - loss: 0.6611 - val_accuracy: 0.6089 - val_loss: 0.6583 - learning_rate: 0.0010\n",
            "Epoch 18/100\n",
            "\u001b[1m1073/1073\u001b[0m \u001b[32m━━━━━━━━━━━━━━━━━━━━\u001b[0m\u001b[37m\u001b[0m \u001b[1m9s\u001b[0m 8ms/step - accuracy: 0.6126 - loss: 0.6608 - val_accuracy: 0.6079 - val_loss: 0.6579 - learning_rate: 0.0010\n",
            "Epoch 19/100\n",
            "\u001b[1m1073/1073\u001b[0m \u001b[32m━━━━━━━━━━━━━━━━━━━━\u001b[0m\u001b[37m\u001b[0m \u001b[1m8s\u001b[0m 8ms/step - accuracy: 0.6102 - loss: 0.6594 - val_accuracy: 0.6153 - val_loss: 0.6560 - learning_rate: 0.0010\n",
            "Epoch 20/100\n",
            "\u001b[1m1073/1073\u001b[0m \u001b[32m━━━━━━━━━━━━━━━━━━━━\u001b[0m\u001b[37m\u001b[0m \u001b[1m10s\u001b[0m 8ms/step - accuracy: 0.6188 - loss: 0.6589 - val_accuracy: 0.6056 - val_loss: 0.6579 - learning_rate: 0.0010\n",
            "Epoch 21/100\n",
            "\u001b[1m1073/1073\u001b[0m \u001b[32m━━━━━━━━━━━━━━━━━━━━\u001b[0m\u001b[37m\u001b[0m \u001b[1m8s\u001b[0m 8ms/step - accuracy: 0.6173 - loss: 0.6558 - val_accuracy: 0.6068 - val_loss: 0.6583 - learning_rate: 0.0010\n",
            "Epoch 22/100\n",
            "\u001b[1m1073/1073\u001b[0m \u001b[32m━━━━━━━━━━━━━━━━━━━━\u001b[0m\u001b[37m\u001b[0m \u001b[1m8s\u001b[0m 8ms/step - accuracy: 0.6167 - loss: 0.6563 - val_accuracy: 0.6063 - val_loss: 0.6594 - learning_rate: 0.0010\n",
            "Epoch 23/100\n",
            "\u001b[1m1073/1073\u001b[0m \u001b[32m━━━━━━━━━━━━━━━━━━━━\u001b[0m\u001b[37m\u001b[0m \u001b[1m8s\u001b[0m 8ms/step - accuracy: 0.6184 - loss: 0.6587 - val_accuracy: 0.6046 - val_loss: 0.6575 - learning_rate: 0.0010\n",
            "Epoch 24/100\n",
            "\u001b[1m1073/1073\u001b[0m \u001b[32m━━━━━━━━━━━━━━━━━━━━\u001b[0m\u001b[37m\u001b[0m \u001b[1m8s\u001b[0m 7ms/step - accuracy: 0.6179 - loss: 0.6547 - val_accuracy: 0.5942 - val_loss: 0.6592 - learning_rate: 0.0010\n",
            "Epoch 25/100\n",
            "\u001b[1m1073/1073\u001b[0m \u001b[32m━━━━━━━━━━━━━━━━━━━━\u001b[0m\u001b[37m\u001b[0m \u001b[1m8s\u001b[0m 8ms/step - accuracy: 0.6283 - loss: 0.6501 - val_accuracy: 0.5984 - val_loss: 0.6602 - learning_rate: 0.0010\n",
            "Epoch 26/100\n",
            "\u001b[1m1073/1073\u001b[0m \u001b[32m━━━━━━━━━━━━━━━━━━━━\u001b[0m\u001b[37m\u001b[0m \u001b[1m8s\u001b[0m 8ms/step - accuracy: 0.6261 - loss: 0.6525 - val_accuracy: 0.6032 - val_loss: 0.6595 - learning_rate: 0.0010\n",
            "Epoch 27/100\n",
            "\u001b[1m1073/1073\u001b[0m \u001b[32m━━━━━━━━━━━━━━━━━━━━\u001b[0m\u001b[37m\u001b[0m \u001b[1m8s\u001b[0m 7ms/step - accuracy: 0.6283 - loss: 0.6477 - val_accuracy: 0.6094 - val_loss: 0.6594 - learning_rate: 0.0010\n",
            "Epoch 28/100\n",
            "\u001b[1m1073/1073\u001b[0m \u001b[32m━━━━━━━━━━━━━━━━━━━━\u001b[0m\u001b[37m\u001b[0m \u001b[1m8s\u001b[0m 8ms/step - accuracy: 0.6236 - loss: 0.6525 - val_accuracy: 0.6003 - val_loss: 0.6607 - learning_rate: 0.0010\n",
            "Epoch 29/100\n",
            "\u001b[1m1073/1073\u001b[0m \u001b[32m━━━━━━━━━━━━━━━━━━━━\u001b[0m\u001b[37m\u001b[0m \u001b[1m9s\u001b[0m 8ms/step - accuracy: 0.6190 - loss: 0.6550 - val_accuracy: 0.6032 - val_loss: 0.6608 - learning_rate: 0.0010\n",
            "Epoch 30/100\n",
            "\u001b[1m1073/1073\u001b[0m \u001b[32m━━━━━━━━━━━━━━━━━━━━\u001b[0m\u001b[37m\u001b[0m \u001b[1m10s\u001b[0m 7ms/step - accuracy: 0.6228 - loss: 0.6544 - val_accuracy: 0.6015 - val_loss: 0.6601 - learning_rate: 0.0010\n",
            "Epoch 31/100\n",
            "\u001b[1m1073/1073\u001b[0m \u001b[32m━━━━━━━━━━━━━━━━━━━━\u001b[0m\u001b[37m\u001b[0m \u001b[1m10s\u001b[0m 7ms/step - accuracy: 0.6246 - loss: 0.6515 - val_accuracy: 0.6029 - val_loss: 0.6605 - learning_rate: 0.0010\n",
            "Epoch 32/100\n",
            "\u001b[1m1073/1073\u001b[0m \u001b[32m━━━━━━━━━━━━━━━━━━━━\u001b[0m\u001b[37m\u001b[0m \u001b[1m8s\u001b[0m 7ms/step - accuracy: 0.6223 - loss: 0.6493 - val_accuracy: 0.6060 - val_loss: 0.6595 - learning_rate: 0.0010\n",
            "Epoch 33/100\n",
            "\u001b[1m1073/1073\u001b[0m \u001b[32m━━━━━━━━━━━━━━━━━━━━\u001b[0m\u001b[37m\u001b[0m \u001b[1m8s\u001b[0m 8ms/step - accuracy: 0.6236 - loss: 0.6530 - val_accuracy: 0.6041 - val_loss: 0.6598 - learning_rate: 0.0010\n",
            "Epoch 34/100\n",
            "\u001b[1m1073/1073\u001b[0m \u001b[32m━━━━━━━━━━━━━━━━━━━━\u001b[0m\u001b[37m\u001b[0m \u001b[1m9s\u001b[0m 8ms/step - accuracy: 0.6221 - loss: 0.6525 - val_accuracy: 0.6027 - val_loss: 0.6612 - learning_rate: 0.0010\n",
            "Epoch 35/100\n",
            "\u001b[1m1073/1073\u001b[0m \u001b[32m━━━━━━━━━━━━━━━━━━━━\u001b[0m\u001b[37m\u001b[0m \u001b[1m8s\u001b[0m 7ms/step - accuracy: 0.6313 - loss: 0.6479 - val_accuracy: 0.5949 - val_loss: 0.6645 - learning_rate: 0.0010\n",
            "Epoch 36/100\n",
            "\u001b[1m1073/1073\u001b[0m \u001b[32m━━━━━━━━━━━━━━━━━━━━\u001b[0m\u001b[37m\u001b[0m \u001b[1m8s\u001b[0m 8ms/step - accuracy: 0.6322 - loss: 0.6492 - val_accuracy: 0.5980 - val_loss: 0.6613 - learning_rate: 0.0010\n",
            "Epoch 37/100\n",
            "\u001b[1m1073/1073\u001b[0m \u001b[32m━━━━━━━━━━━━━━━━━━━━\u001b[0m\u001b[37m\u001b[0m \u001b[1m8s\u001b[0m 8ms/step - accuracy: 0.6252 - loss: 0.6491 - val_accuracy: 0.6001 - val_loss: 0.6602 - learning_rate: 0.0010\n",
            "Epoch 38/100\n",
            "\u001b[1m1073/1073\u001b[0m \u001b[32m━━━━━━━━━━━━━━━━━━━━\u001b[0m\u001b[37m\u001b[0m \u001b[1m8s\u001b[0m 8ms/step - accuracy: 0.6337 - loss: 0.6468 - val_accuracy: 0.6060 - val_loss: 0.6596 - learning_rate: 0.0010\n",
            "Epoch 39/100\n",
            "\u001b[1m1073/1073\u001b[0m \u001b[32m━━━━━━━━━━━━━━━━━━━━\u001b[0m\u001b[37m\u001b[0m \u001b[1m8s\u001b[0m 8ms/step - accuracy: 0.6289 - loss: 0.6475 - val_accuracy: 0.6065 - val_loss: 0.6609 - learning_rate: 0.0010\n",
            "Epoch 39: early stopping\n"
          ]
        },
        {
          "data": {
            "text/plain": [
              "<keras.src.callbacks.history.History at 0x1ce71c7b620>"
            ]
          },
          "execution_count": 97,
          "metadata": {},
          "output_type": "execute_result"
        }
      ],
      "source": [
        "model = create_tf_model(n_features=X_train.shape[1])\n",
        "model.fit(x=X_train, \n",
        "        y=y_train,\n",
        "        batch_size=16,\n",
        "        epochs=100,\n",
        "        validation_data=(X_val, y_val),\n",
        "        verbose=1,\n",
        "        callbacks=[early_stop, reduce_lr]\n",
        "        )"
      ]
    },
    {
      "cell_type": "code",
      "execution_count": 91,
      "metadata": {},
      "outputs": [
        {
          "data": {
            "text/html": [
              "<div>\n",
              "<style scoped>\n",
              "    .dataframe tbody tr th:only-of-type {\n",
              "        vertical-align: middle;\n",
              "    }\n",
              "\n",
              "    .dataframe tbody tr th {\n",
              "        vertical-align: top;\n",
              "    }\n",
              "\n",
              "    .dataframe thead th {\n",
              "        text-align: right;\n",
              "    }\n",
              "</style>\n",
              "<table border=\"1\" class=\"dataframe\">\n",
              "  <thead>\n",
              "    <tr style=\"text-align: right;\">\n",
              "      <th></th>\n",
              "      <th>accuracy</th>\n",
              "      <th>loss</th>\n",
              "      <th>val_accuracy</th>\n",
              "      <th>val_loss</th>\n",
              "      <th>learning_rate</th>\n",
              "    </tr>\n",
              "  </thead>\n",
              "  <tbody>\n",
              "    <tr>\n",
              "      <th>0</th>\n",
              "      <td>0.512242</td>\n",
              "      <td>0.748313</td>\n",
              "      <td>0.537565</td>\n",
              "      <td>0.688440</td>\n",
              "      <td>0.001</td>\n",
              "    </tr>\n",
              "    <tr>\n",
              "      <th>1</th>\n",
              "      <td>0.528506</td>\n",
              "      <td>0.692100</td>\n",
              "      <td>0.569900</td>\n",
              "      <td>0.680588</td>\n",
              "      <td>0.001</td>\n",
              "    </tr>\n",
              "    <tr>\n",
              "      <th>2</th>\n",
              "      <td>0.554331</td>\n",
              "      <td>0.684601</td>\n",
              "      <td>0.581788</td>\n",
              "      <td>0.673613</td>\n",
              "      <td>0.001</td>\n",
              "    </tr>\n",
              "    <tr>\n",
              "      <th>3</th>\n",
              "      <td>0.571645</td>\n",
              "      <td>0.679985</td>\n",
              "      <td>0.587732</td>\n",
              "      <td>0.668631</td>\n",
              "      <td>0.001</td>\n",
              "    </tr>\n",
              "    <tr>\n",
              "      <th>4</th>\n",
              "      <td>0.587676</td>\n",
              "      <td>0.675060</td>\n",
              "      <td>0.598193</td>\n",
              "      <td>0.668004</td>\n",
              "      <td>0.001</td>\n",
              "    </tr>\n",
              "    <tr>\n",
              "      <th>5</th>\n",
              "      <td>0.589600</td>\n",
              "      <td>0.671263</td>\n",
              "      <td>0.599382</td>\n",
              "      <td>0.663278</td>\n",
              "      <td>0.001</td>\n",
              "    </tr>\n",
              "    <tr>\n",
              "      <th>6</th>\n",
              "      <td>0.599277</td>\n",
              "      <td>0.669875</td>\n",
              "      <td>0.596767</td>\n",
              "      <td>0.664343</td>\n",
              "      <td>0.001</td>\n",
              "    </tr>\n",
              "    <tr>\n",
              "      <th>7</th>\n",
              "      <td>0.602134</td>\n",
              "      <td>0.669398</td>\n",
              "      <td>0.601759</td>\n",
              "      <td>0.664890</td>\n",
              "      <td>0.001</td>\n",
              "    </tr>\n",
              "    <tr>\n",
              "      <th>8</th>\n",
              "      <td>0.603008</td>\n",
              "      <td>0.666637</td>\n",
              "      <td>0.596291</td>\n",
              "      <td>0.664487</td>\n",
              "      <td>0.001</td>\n",
              "    </tr>\n",
              "    <tr>\n",
              "      <th>9</th>\n",
              "      <td>0.602017</td>\n",
              "      <td>0.665213</td>\n",
              "      <td>0.590347</td>\n",
              "      <td>0.663746</td>\n",
              "      <td>0.001</td>\n",
              "    </tr>\n",
              "    <tr>\n",
              "      <th>10</th>\n",
              "      <td>0.600793</td>\n",
              "      <td>0.665887</td>\n",
              "      <td>0.604375</td>\n",
              "      <td>0.660622</td>\n",
              "      <td>0.001</td>\n",
              "    </tr>\n",
              "    <tr>\n",
              "      <th>11</th>\n",
              "      <td>0.603474</td>\n",
              "      <td>0.666161</td>\n",
              "      <td>0.609368</td>\n",
              "      <td>0.660653</td>\n",
              "      <td>0.001</td>\n",
              "    </tr>\n",
              "    <tr>\n",
              "      <th>12</th>\n",
              "      <td>0.604640</td>\n",
              "      <td>0.663041</td>\n",
              "      <td>0.602948</td>\n",
              "      <td>0.662122</td>\n",
              "      <td>0.001</td>\n",
              "    </tr>\n",
              "    <tr>\n",
              "      <th>13</th>\n",
              "      <td>0.605165</td>\n",
              "      <td>0.663240</td>\n",
              "      <td>0.597955</td>\n",
              "      <td>0.662322</td>\n",
              "      <td>0.001</td>\n",
              "    </tr>\n",
              "    <tr>\n",
              "      <th>14</th>\n",
              "      <td>0.612102</td>\n",
              "      <td>0.662121</td>\n",
              "      <td>0.604612</td>\n",
              "      <td>0.661835</td>\n",
              "      <td>0.001</td>\n",
              "    </tr>\n",
              "    <tr>\n",
              "      <th>15</th>\n",
              "      <td>0.611986</td>\n",
              "      <td>0.660945</td>\n",
              "      <td>0.603186</td>\n",
              "      <td>0.661191</td>\n",
              "      <td>0.001</td>\n",
              "    </tr>\n",
              "    <tr>\n",
              "      <th>16</th>\n",
              "      <td>0.609246</td>\n",
              "      <td>0.660026</td>\n",
              "      <td>0.602473</td>\n",
              "      <td>0.659169</td>\n",
              "      <td>0.001</td>\n",
              "    </tr>\n",
              "    <tr>\n",
              "      <th>17</th>\n",
              "      <td>0.610528</td>\n",
              "      <td>0.660443</td>\n",
              "      <td>0.597718</td>\n",
              "      <td>0.662357</td>\n",
              "      <td>0.001</td>\n",
              "    </tr>\n",
              "    <tr>\n",
              "      <th>18</th>\n",
              "      <td>0.611111</td>\n",
              "      <td>0.658833</td>\n",
              "      <td>0.602710</td>\n",
              "      <td>0.661171</td>\n",
              "      <td>0.001</td>\n",
              "    </tr>\n",
              "    <tr>\n",
              "      <th>19</th>\n",
              "      <td>0.616999</td>\n",
              "      <td>0.657383</td>\n",
              "      <td>0.606277</td>\n",
              "      <td>0.658367</td>\n",
              "      <td>0.001</td>\n",
              "    </tr>\n",
              "    <tr>\n",
              "      <th>20</th>\n",
              "      <td>0.613501</td>\n",
              "      <td>0.656638</td>\n",
              "      <td>0.604850</td>\n",
              "      <td>0.659547</td>\n",
              "      <td>0.001</td>\n",
              "    </tr>\n",
              "    <tr>\n",
              "      <th>21</th>\n",
              "      <td>0.615833</td>\n",
              "      <td>0.656835</td>\n",
              "      <td>0.608892</td>\n",
              "      <td>0.661364</td>\n",
              "      <td>0.001</td>\n",
              "    </tr>\n",
              "    <tr>\n",
              "      <th>22</th>\n",
              "      <td>0.616416</td>\n",
              "      <td>0.658211</td>\n",
              "      <td>0.602948</td>\n",
              "      <td>0.658700</td>\n",
              "      <td>0.001</td>\n",
              "    </tr>\n",
              "    <tr>\n",
              "      <th>23</th>\n",
              "      <td>0.613443</td>\n",
              "      <td>0.658368</td>\n",
              "      <td>0.603424</td>\n",
              "      <td>0.659429</td>\n",
              "      <td>0.001</td>\n",
              "    </tr>\n",
              "    <tr>\n",
              "      <th>24</th>\n",
              "      <td>0.617640</td>\n",
              "      <td>0.655168</td>\n",
              "      <td>0.606277</td>\n",
              "      <td>0.660502</td>\n",
              "      <td>0.001</td>\n",
              "    </tr>\n",
              "    <tr>\n",
              "      <th>25</th>\n",
              "      <td>0.620613</td>\n",
              "      <td>0.653477</td>\n",
              "      <td>0.601522</td>\n",
              "      <td>0.660327</td>\n",
              "      <td>0.001</td>\n",
              "    </tr>\n",
              "    <tr>\n",
              "      <th>26</th>\n",
              "      <td>0.618806</td>\n",
              "      <td>0.654864</td>\n",
              "      <td>0.605801</td>\n",
              "      <td>0.662209</td>\n",
              "      <td>0.001</td>\n",
              "    </tr>\n",
              "    <tr>\n",
              "      <th>27</th>\n",
              "      <td>0.619389</td>\n",
              "      <td>0.653577</td>\n",
              "      <td>0.597004</td>\n",
              "      <td>0.659656</td>\n",
              "      <td>0.001</td>\n",
              "    </tr>\n",
              "    <tr>\n",
              "      <th>28</th>\n",
              "      <td>0.621604</td>\n",
              "      <td>0.653378</td>\n",
              "      <td>0.609605</td>\n",
              "      <td>0.659173</td>\n",
              "      <td>0.001</td>\n",
              "    </tr>\n",
              "    <tr>\n",
              "      <th>29</th>\n",
              "      <td>0.623878</td>\n",
              "      <td>0.652087</td>\n",
              "      <td>0.600095</td>\n",
              "      <td>0.661810</td>\n",
              "      <td>0.001</td>\n",
              "    </tr>\n",
              "    <tr>\n",
              "      <th>30</th>\n",
              "      <td>0.622246</td>\n",
              "      <td>0.654482</td>\n",
              "      <td>0.603186</td>\n",
              "      <td>0.662046</td>\n",
              "      <td>0.001</td>\n",
              "    </tr>\n",
              "    <tr>\n",
              "      <th>31</th>\n",
              "      <td>0.628541</td>\n",
              "      <td>0.650696</td>\n",
              "      <td>0.598431</td>\n",
              "      <td>0.662221</td>\n",
              "      <td>0.001</td>\n",
              "    </tr>\n",
              "    <tr>\n",
              "      <th>32</th>\n",
              "      <td>0.623936</td>\n",
              "      <td>0.653476</td>\n",
              "      <td>0.594389</td>\n",
              "      <td>0.662163</td>\n",
              "      <td>0.001</td>\n",
              "    </tr>\n",
              "    <tr>\n",
              "      <th>33</th>\n",
              "      <td>0.624927</td>\n",
              "      <td>0.649399</td>\n",
              "      <td>0.593676</td>\n",
              "      <td>0.661086</td>\n",
              "      <td>0.001</td>\n",
              "    </tr>\n",
              "    <tr>\n",
              "      <th>34</th>\n",
              "      <td>0.624169</td>\n",
              "      <td>0.651918</td>\n",
              "      <td>0.598669</td>\n",
              "      <td>0.660789</td>\n",
              "      <td>0.001</td>\n",
              "    </tr>\n",
              "    <tr>\n",
              "      <th>35</th>\n",
              "      <td>0.623703</td>\n",
              "      <td>0.650603</td>\n",
              "      <td>0.601522</td>\n",
              "      <td>0.661426</td>\n",
              "      <td>0.001</td>\n",
              "    </tr>\n",
              "    <tr>\n",
              "      <th>36</th>\n",
              "      <td>0.630349</td>\n",
              "      <td>0.649617</td>\n",
              "      <td>0.599620</td>\n",
              "      <td>0.661687</td>\n",
              "      <td>0.001</td>\n",
              "    </tr>\n",
              "    <tr>\n",
              "      <th>37</th>\n",
              "      <td>0.627434</td>\n",
              "      <td>0.651193</td>\n",
              "      <td>0.595102</td>\n",
              "      <td>0.663769</td>\n",
              "      <td>0.001</td>\n",
              "    </tr>\n",
              "    <tr>\n",
              "      <th>38</th>\n",
              "      <td>0.630174</td>\n",
              "      <td>0.649069</td>\n",
              "      <td>0.599620</td>\n",
              "      <td>0.662892</td>\n",
              "      <td>0.001</td>\n",
              "    </tr>\n",
              "    <tr>\n",
              "      <th>39</th>\n",
              "      <td>0.621546</td>\n",
              "      <td>0.650157</td>\n",
              "      <td>0.603186</td>\n",
              "      <td>0.662407</td>\n",
              "      <td>0.001</td>\n",
              "    </tr>\n",
              "    <tr>\n",
              "      <th>40</th>\n",
              "      <td>0.624111</td>\n",
              "      <td>0.650417</td>\n",
              "      <td>0.597480</td>\n",
              "      <td>0.661772</td>\n",
              "      <td>0.001</td>\n",
              "    </tr>\n",
              "    <tr>\n",
              "      <th>41</th>\n",
              "      <td>0.628600</td>\n",
              "      <td>0.649681</td>\n",
              "      <td>0.605326</td>\n",
              "      <td>0.661155</td>\n",
              "      <td>0.001</td>\n",
              "    </tr>\n",
              "    <tr>\n",
              "      <th>42</th>\n",
              "      <td>0.625452</td>\n",
              "      <td>0.649044</td>\n",
              "      <td>0.594864</td>\n",
              "      <td>0.663913</td>\n",
              "      <td>0.001</td>\n",
              "    </tr>\n",
              "    <tr>\n",
              "      <th>43</th>\n",
              "      <td>0.629999</td>\n",
              "      <td>0.648541</td>\n",
              "      <td>0.598431</td>\n",
              "      <td>0.662782</td>\n",
              "      <td>0.001</td>\n",
              "    </tr>\n",
              "    <tr>\n",
              "      <th>44</th>\n",
              "      <td>0.629941</td>\n",
              "      <td>0.647851</td>\n",
              "      <td>0.595340</td>\n",
              "      <td>0.662440</td>\n",
              "      <td>0.001</td>\n",
              "    </tr>\n",
              "    <tr>\n",
              "      <th>45</th>\n",
              "      <td>0.634371</td>\n",
              "      <td>0.647126</td>\n",
              "      <td>0.596053</td>\n",
              "      <td>0.662939</td>\n",
              "      <td>0.001</td>\n",
              "    </tr>\n",
              "    <tr>\n",
              "      <th>46</th>\n",
              "      <td>0.629824</td>\n",
              "      <td>0.648724</td>\n",
              "      <td>0.599857</td>\n",
              "      <td>0.662278</td>\n",
              "      <td>0.001</td>\n",
              "    </tr>\n",
              "    <tr>\n",
              "      <th>47</th>\n",
              "      <td>0.629649</td>\n",
              "      <td>0.647416</td>\n",
              "      <td>0.603186</td>\n",
              "      <td>0.663068</td>\n",
              "      <td>0.001</td>\n",
              "    </tr>\n",
              "    <tr>\n",
              "      <th>48</th>\n",
              "      <td>0.630349</td>\n",
              "      <td>0.645409</td>\n",
              "      <td>0.596053</td>\n",
              "      <td>0.662275</td>\n",
              "      <td>0.001</td>\n",
              "    </tr>\n",
              "  </tbody>\n",
              "</table>\n",
              "</div>"
            ],
            "text/plain": [
              "    accuracy      loss  val_accuracy  val_loss  learning_rate\n",
              "0   0.512242  0.748313      0.537565  0.688440          0.001\n",
              "1   0.528506  0.692100      0.569900  0.680588          0.001\n",
              "2   0.554331  0.684601      0.581788  0.673613          0.001\n",
              "3   0.571645  0.679985      0.587732  0.668631          0.001\n",
              "4   0.587676  0.675060      0.598193  0.668004          0.001\n",
              "5   0.589600  0.671263      0.599382  0.663278          0.001\n",
              "6   0.599277  0.669875      0.596767  0.664343          0.001\n",
              "7   0.602134  0.669398      0.601759  0.664890          0.001\n",
              "8   0.603008  0.666637      0.596291  0.664487          0.001\n",
              "9   0.602017  0.665213      0.590347  0.663746          0.001\n",
              "10  0.600793  0.665887      0.604375  0.660622          0.001\n",
              "11  0.603474  0.666161      0.609368  0.660653          0.001\n",
              "12  0.604640  0.663041      0.602948  0.662122          0.001\n",
              "13  0.605165  0.663240      0.597955  0.662322          0.001\n",
              "14  0.612102  0.662121      0.604612  0.661835          0.001\n",
              "15  0.611986  0.660945      0.603186  0.661191          0.001\n",
              "16  0.609246  0.660026      0.602473  0.659169          0.001\n",
              "17  0.610528  0.660443      0.597718  0.662357          0.001\n",
              "18  0.611111  0.658833      0.602710  0.661171          0.001\n",
              "19  0.616999  0.657383      0.606277  0.658367          0.001\n",
              "20  0.613501  0.656638      0.604850  0.659547          0.001\n",
              "21  0.615833  0.656835      0.608892  0.661364          0.001\n",
              "22  0.616416  0.658211      0.602948  0.658700          0.001\n",
              "23  0.613443  0.658368      0.603424  0.659429          0.001\n",
              "24  0.617640  0.655168      0.606277  0.660502          0.001\n",
              "25  0.620613  0.653477      0.601522  0.660327          0.001\n",
              "26  0.618806  0.654864      0.605801  0.662209          0.001\n",
              "27  0.619389  0.653577      0.597004  0.659656          0.001\n",
              "28  0.621604  0.653378      0.609605  0.659173          0.001\n",
              "29  0.623878  0.652087      0.600095  0.661810          0.001\n",
              "30  0.622246  0.654482      0.603186  0.662046          0.001\n",
              "31  0.628541  0.650696      0.598431  0.662221          0.001\n",
              "32  0.623936  0.653476      0.594389  0.662163          0.001\n",
              "33  0.624927  0.649399      0.593676  0.661086          0.001\n",
              "34  0.624169  0.651918      0.598669  0.660789          0.001\n",
              "35  0.623703  0.650603      0.601522  0.661426          0.001\n",
              "36  0.630349  0.649617      0.599620  0.661687          0.001\n",
              "37  0.627434  0.651193      0.595102  0.663769          0.001\n",
              "38  0.630174  0.649069      0.599620  0.662892          0.001\n",
              "39  0.621546  0.650157      0.603186  0.662407          0.001\n",
              "40  0.624111  0.650417      0.597480  0.661772          0.001\n",
              "41  0.628600  0.649681      0.605326  0.661155          0.001\n",
              "42  0.625452  0.649044      0.594864  0.663913          0.001\n",
              "43  0.629999  0.648541      0.598431  0.662782          0.001\n",
              "44  0.629941  0.647851      0.595340  0.662440          0.001\n",
              "45  0.634371  0.647126      0.596053  0.662939          0.001\n",
              "46  0.629824  0.648724      0.599857  0.662278          0.001\n",
              "47  0.629649  0.647416      0.603186  0.663068          0.001\n",
              "48  0.630349  0.645409      0.596053  0.662275          0.001"
            ]
          },
          "execution_count": 91,
          "metadata": {},
          "output_type": "execute_result"
        }
      ],
      "source": [
        "history = pd.DataFrame(model.history.history)\n",
        "history"
      ]
    },
    {
      "cell_type": "code",
      "execution_count": 92,
      "metadata": {},
      "outputs": [
        {
          "data": {
            "image/png": "[encoded data removed]",
            "text/plain": [
              "<Figure size 640x480 with 1 Axes>"
            ]
          },
          "metadata": {},
          "output_type": "display_data"
        },
        {
          "name": "stdout",
          "output_type": "stream",
          "text": [
            "\n",
            "\n"
          ]
        },
        {
          "data": {
            "image/png": "[encoded data removed]",
            "text/plain": [
              "<Figure size 640x480 with 1 Axes>"
            ]
          },
          "metadata": {},
          "output_type": "display_data"
        }
      ],
      "source": [
        "import seaborn as sns\n",
        "import matplotlib.pyplot as plt\n",
        "\n",
        "sns.set_style(\"whitegrid\")\n",
        "history[['loss','val_loss']].plot(style='.-')\n",
        "plt.title(\"Loss\")\n",
        "plt.show()\n",
        "\n",
        "print(\"\\n\")\n",
        "history[['accuracy','val_accuracy']].plot(style='.-')\n",
        "plt.title(\"Accuracy\")\n",
        "plt.show()"
      ]
    },
    {
      "cell_type": "markdown",
      "metadata": {},
      "source": [
        "## Fit and evaluate the Test set"
      ]
    },
    {
      "cell_type": "code",
      "execution_count": 93,
      "metadata": {},
      "outputs": [
        {
          "name": "stdout",
          "output_type": "stream",
          "text": [
            "\u001b[1m157/157\u001b[0m \u001b[32m━━━━━━━━━━━━━━━━━━━━\u001b[0m\u001b[37m\u001b[0m \u001b[1m2s\u001b[0m 7ms/step - accuracy: 0.6013 - loss: 0.6587\n"
          ]
        },
        {
          "data": {
            "text/plain": [
              "[0.6578541398048401, 0.6028000116348267]"
            ]
          },
          "execution_count": 93,
          "metadata": {},
          "output_type": "execute_result"
        }
      ],
      "source": [
        "model.evaluate(X_test,y_test)"
      ]
    },
    {
      "cell_type": "code",
      "execution_count": 94,
      "metadata": {},
      "outputs": [],
      "source": [
        "from sklearn.metrics import classification_report, confusion_matrix\n",
        "\n",
        "def confusion_matrix_and_report(X,y,pipeline,label_map):\n",
        "    prediction = pipeline.predict(X).reshape(-1)\n",
        "    prediction = np.where(prediction<0.5,0,1) \n",
        "    # the prediction using sigmoid as an activation function is a probability number, between 0 and 1\n",
        "    # we convert it to 0 or 1, if it is lower than 0.5, the predicted class is 0, otherwise it is 1\n",
        "    # you could change the threshold if you want.\n",
        "\n",
        "    print('---  Confusion Matrix  ---')\n",
        "    print(pd.DataFrame(confusion_matrix(y_true=prediction, y_pred=y),\n",
        "            columns=[ [\"Actual \" + sub for sub in label_map] ], \n",
        "            index= [ [\"Prediction \" + sub for sub in label_map ]]\n",
        "            ))\n",
        "    print(\"\\n\")\n",
        "\n",
        "\n",
        "    print('---  Classification Report  ---')\n",
        "    print(classification_report(y, prediction, target_names=label_map),\"\\n\")\n",
        "\n",
        "\n",
        "\n",
        "def clf_performance(X_train,y_train,X_test,y_test,X_val, y_val,pipeline,label_map):\n",
        "\n",
        "    print(\"#### Train Set #### \\n\")\n",
        "    confusion_matrix_and_report(X_train,y_train,pipeline,label_map)\n",
        "\n",
        "    print(\"#### Validation Set #### \\n\")\n",
        "    confusion_matrix_and_report(X_val,y_val,pipeline,label_map)\n",
        "\n",
        "    print(\"#### Test Set ####\\n\")\n",
        "    confusion_matrix_and_report(X_test,y_test,pipeline,label_map)"
      ]
    },
    {
      "cell_type": "code",
      "execution_count": 95,
      "metadata": {},
      "outputs": [
        {
          "name": "stdout",
          "output_type": "stream",
          "text": [
            "#### Train Set #### \n",
            "\n",
            "\u001b[1m537/537\u001b[0m \u001b[32m━━━━━━━━━━━━━━━━━━━━\u001b[0m\u001b[37m\u001b[0m \u001b[1m4s\u001b[0m 5ms/step\n",
            "---  Confusion Matrix  ---\n",
            "                          Actual not readmitted Actual readmitted\n",
            "Prediction not readmitted                  5817              3095\n",
            "Prediction readmitted                      2760              5482\n",
            "\n",
            "\n",
            "---  Classification Report  ---\n",
            "                precision    recall  f1-score   support\n",
            "\n",
            "not readmitted       0.65      0.68      0.67      8577\n",
            "    readmitted       0.67      0.64      0.65      8577\n",
            "\n",
            "      accuracy                           0.66     17154\n",
            "     macro avg       0.66      0.66      0.66     17154\n",
            "  weighted avg       0.66      0.66      0.66     17154\n",
            " \n",
            "\n",
            "#### Validation Set #### \n",
            "\n",
            "\u001b[1m132/132\u001b[0m \u001b[32m━━━━━━━━━━━━━━━━━━━━\u001b[0m\u001b[37m\u001b[0m \u001b[1m1s\u001b[0m 6ms/step\n",
            "---  Confusion Matrix  ---\n",
            "                          Actual not readmitted Actual readmitted\n",
            "Prediction not readmitted                  1311               907\n",
            "Prediction readmitted                       792              1196\n",
            "\n",
            "\n",
            "---  Classification Report  ---\n",
            "                precision    recall  f1-score   support\n",
            "\n",
            "not readmitted       0.59      0.62      0.61      2103\n",
            "    readmitted       0.60      0.57      0.58      2103\n",
            "\n",
            "      accuracy                           0.60      4206\n",
            "     macro avg       0.60      0.60      0.60      4206\n",
            "  weighted avg       0.60      0.60      0.60      4206\n",
            " \n",
            "\n",
            "#### Test Set ####\n",
            "\n",
            "\u001b[1m157/157\u001b[0m \u001b[32m━━━━━━━━━━━━━━━━━━━━\u001b[0m\u001b[37m\u001b[0m \u001b[1m1s\u001b[0m 6ms/step\n",
            "---  Confusion Matrix  ---\n",
            "                          Actual not readmitted Actual readmitted\n",
            "Prediction not readmitted                  1653              1073\n",
            "Prediction readmitted                       913              1361\n",
            "\n",
            "\n",
            "---  Classification Report  ---\n",
            "                precision    recall  f1-score   support\n",
            "\n",
            "not readmitted       0.61      0.64      0.62      2566\n",
            "    readmitted       0.60      0.56      0.58      2434\n",
            "\n",
            "      accuracy                           0.60      5000\n",
            "     macro avg       0.60      0.60      0.60      5000\n",
            "  weighted avg       0.60      0.60      0.60      5000\n",
            " \n",
            "\n"
          ]
        }
      ],
      "source": [
        "\n",
        "clf_performance(X_train, y_train,\n",
        "                X_test,y_test,\n",
        "                X_val, y_val,\n",
        "                model,\n",
        "                label_map= ['not readmitted', 'readmitted']\n",
        "                )"
      ]
    },
    {
      "cell_type": "markdown",
      "metadata": {},
      "source": [
        "---"
      ]
    },
    {
      "cell_type": "markdown",
      "metadata": {
        "id": "ltNetd085qHf"
      },
      "source": [
        "# Push files to Repo"
      ]
    },
    {
      "cell_type": "markdown",
      "metadata": {},
      "source": [
        "* In case you don't need to push files to Repo, you may replace this section with \"Conclusions and Next Steps\" and state your conclusions and next steps."
      ]
    },
    {
      "cell_type": "code",
      "execution_count": null,
      "metadata": {
        "id": "aKlnIozA4eQO",
        "outputId": "fd09bc1f-adb1-4511-f6ce-492a6af570c0"
      },
      "outputs": [],
      "source": [
        "import os\n",
        "try:\n",
        "  # create here your folder\n",
        "  # os.makedirs(name='')\n",
        "except Exception as e:\n",
        "  print(e)\n"
      ]
    }
  ],
  "metadata": {
    "accelerator": "GPU",
    "colab": {
      "name": "Data Practitioner Jupyter Notebook.ipynb",
      "provenance": [],
      "toc_visible": true
    },
    "interpreter": {
      "hash": "8b8334dab9339717f727a1deaf837b322d7a41c20d15cc86be99a8e69ceec8ce"
    },
    "kernelspec": {
      "display_name": "Python 3.8.12 64-bit ('3.8.12': pyenv)",
      "name": "python3"
    },
    "language_info": {
      "codemirror_mode": {
        "name": "ipython",
        "version": 3
      },
      "file_extension": ".py",
      "mimetype": "text/x-python",
      "name": "python",
      "nbconvert_exporter": "python",
      "pygments_lexer": "ipython3",
      "version": "3.12.3"
    },
    "orig_nbformat": 2
  },
  "nbformat": 4,
  "nbformat_minor": 2
}
